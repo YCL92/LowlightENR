{
 "cells": [
  {
   "cell_type": "markdown",
   "metadata": {},
   "source": [
    "# Network Configuration"
   ]
  },
  {
   "cell_type": "code",
   "execution_count": null,
   "metadata": {
    "code_folding": []
   },
   "outputs": [],
   "source": [
    "class Config():\n",
    "    def __init__(self, mode=None):\n",
    "        # path to dataset and checkpoint\n",
    "        self.data_root = '../../SSD/PlieCNR'\n",
    "        self.save_root = './saves'\n",
    "\n",
    "        # network parameters for pre-training\n",
    "        if mode == 'paired':\n",
    "            self.crop_size = 480  # random crop size\n",
    "            self.lr = 1e-4  # initial learning rate\n",
    "            self.lr_decay = 0.924  # learning rate decay\n",
    "            self.upd_freq = (100, 20)  # learning rate update frequency\n",
    "            self.max_epoch = (3000, 600)  # number of epoch\n",
    "            self.save_freq = 20  # save frequency\n",
    "\n",
    "        # network parameters for enhancement branch\n",
    "        elif mode == 'unpaired':\n",
    "            self.shadow = 0.1  # preserve black\n",
    "            self.sigma = 0.15  # exposure loss param\n",
    "            self.w_color = 7  # weight for color loss\n",
    "            self.w_smooth = 7  # weight for smooth loss\n",
    "            self.crop_size = 480  # random crop size\n",
    "            self.lr = 1e-5  # initial learning rate\n",
    "            self.lr_decay = 0.6  # learning rate decay\n",
    "            self.upd_freq = 30  # learning rate update frequency\n",
    "            self.max_epoch = 300  # number of epoch\n",
    "            self.save_freq = 10  # save frequency\n",
    "\n",
    "        # network parameters for denoising branch\n",
    "        elif mode == 'denoise':\n",
    "            self.crop_size = 64  # random crop size\n",
    "            self.lr = 1e-4  # initial learning rate\n",
    "            self.lr_decay = 0.6  # learning rate decay\n",
    "            self.upd_freq = 10  # learning rate update frequency\n",
    "            self.max_epoch = 100  # number of epoch\n",
    "\n",
    "        elif mode is not None:\n",
    "            sys.exit('Unrecognized mode: %s' % mode)\n",
    "\n",
    "        # other parameters\n",
    "        self.batch_size = 8  # mini-batch size\n",
    "        self.num_workers = 8  # parallel cores"
   ]
  }
 ],
 "metadata": {
  "kernelspec": {
   "display_name": "Python 3",
   "language": "python",
   "name": "python3"
  },
  "language_info": {
   "codemirror_mode": {
    "name": "ipython",
    "version": 3
   },
   "file_extension": ".py",
   "mimetype": "text/x-python",
   "name": "python",
   "nbconvert_exporter": "python",
   "pygments_lexer": "ipython3",
   "version": "3.8.10"
  },
  "toc": {
   "nav_menu": {},
   "number_sections": true,
   "sideBar": true,
   "skip_h1_title": true,
   "title_cell": "Table of Contents",
   "title_sidebar": "Contents",
   "toc_cell": false,
   "toc_position": {},
   "toc_section_display": true,
   "toc_window_display": false
  },
  "varInspector": {
   "cols": {
    "lenName": 16,
    "lenType": 16,
    "lenVar": 40
   },
   "kernels_config": {
    "python": {
     "delete_cmd_postfix": "",
     "delete_cmd_prefix": "del ",
     "library": "var_list.py",
     "varRefreshCmd": "print(var_dic_list())"
    },
    "r": {
     "delete_cmd_postfix": ") ",
     "delete_cmd_prefix": "rm(",
     "library": "var_list.r",
     "varRefreshCmd": "cat(var_dic_list()) "
    }
   },
   "types_to_exclude": [
    "module",
    "function",
    "builtin_function_or_method",
    "instance",
    "_Feature"
   ],
   "window_display": false
  }
 },
 "nbformat": 4,
 "nbformat_minor": 2
}
