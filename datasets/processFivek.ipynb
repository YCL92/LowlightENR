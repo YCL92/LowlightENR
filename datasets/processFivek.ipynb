{
 "cells": [
  {
   "cell_type": "markdown",
   "metadata": {
    "code_folding": []
   },
   "source": [
    "## Includes"
   ]
  },
  {
   "cell_type": "code",
   "execution_count": null,
   "metadata": {
    "code_folding": [
     0
    ]
   },
   "outputs": [],
   "source": [
    "# mass includes\n",
    "import os\n",
    "import cv2\n",
    "import pickle\n",
    "import numpy as np\n",
    "import pyexiv2 as exiv2\n",
    "import multiprocessing as par\n",
    "from tqdm.notebook import tqdm"
   ]
  },
  {
   "cell_type": "markdown",
   "metadata": {},
   "source": [
    "## Initialization"
   ]
  },
  {
   "cell_type": "code",
   "execution_count": null,
   "metadata": {
    "code_folding": []
   },
   "outputs": [],
   "source": [
    "data_root = '/home/lab/Documents/ssd/PlieCNR/FiveK'\n",
    "min_px = 640  # minimal output size"
   ]
  },
  {
   "cell_type": "code",
   "execution_count": null,
   "metadata": {
    "code_folding": [
     0
    ]
   },
   "outputs": [],
   "source": [
    "# find all samples\n",
    "file_list = [\n",
    "    file for file in os.listdir(os.path.join(data_root, 'zeroed'))\n",
    "    if '.tif' in file\n",
    "]\n",
    "file_list.sort()\n",
    "\n",
    "# path to saves\n",
    "save_path = os.path.join(data_root, '../paired')\n",
    "if not os.path.exists(save_path):\n",
    "    os.makedirs(save_path)"
   ]
  },
  {
   "cell_type": "markdown",
   "metadata": {},
   "source": [
    "## Convert paired dataset"
   ]
  },
  {
   "cell_type": "code",
   "execution_count": null,
   "metadata": {
    "code_folding": [
     1
    ]
   },
   "outputs": [],
   "source": [
    "# generate new sample\n",
    "def genSample(file):\n",
    "    # read 16bit input image\n",
    "    raw_img = cv2.imread(os.path.join(data_root, 'zeroed', file), -1)\n",
    "    raw_img = cv2.cvtColor(raw_img, cv2.COLOR_BGR2RGB)\n",
    "\n",
    "    # read 16bit retouched image\n",
    "    out_img = cv2.imread(os.path.join(data_root, 'expert', file), -1)\n",
    "    out_img = cv2.cvtColor(out_img, cv2.COLOR_BGR2RGB)\n",
    "\n",
    "    # compute proper scale\n",
    "    hei, wid, _ = raw_img.shape\n",
    "    scale = float(min_px) / min(hei, wid)\n",
    "\n",
    "    # resize\n",
    "    raw_img = cv2.resize(raw_img,\n",
    "                         None,\n",
    "                         fx=scale,\n",
    "                         fy=scale,\n",
    "                         interpolation=cv2.INTER_AREA)\n",
    "    out_img = cv2.resize(out_img,\n",
    "                         None,\n",
    "                         fx=scale,\n",
    "                         fy=scale,\n",
    "                         interpolation=cv2.INTER_AREA)\n",
    "\n",
    "    # save to file\n",
    "    save_data = {}\n",
    "    save_data['zeroed'] = raw_img\n",
    "    save_data['expert'] = out_img\n",
    "    with open(os.path.join(save_path, file.replace('.tif', '.pkl')),\n",
    "              'wb') as pkl:\n",
    "        pickle.dump(save_data, pkl, protocol=pickle.HIGHEST_PROTOCOL)"
   ]
  },
  {
   "cell_type": "markdown",
   "metadata": {},
   "source": [
    "## Parallel processing"
   ]
  },
  {
   "cell_type": "code",
   "execution_count": null,
   "metadata": {
    "code_folding": [
     0
    ]
   },
   "outputs": [],
   "source": [
    "# parallel processing\n",
    "cores = int(par.cpu_count() / 2)\n",
    "pool = par.Pool(processes=cores)\n",
    "for out in tqdm(pool.imap(genSample, file_list),\n",
    "                desc='progress',\n",
    "                total=len(file_list)):\n",
    "    pass\n",
    "pool.close()"
   ]
  }
 ],
 "metadata": {
  "kernelspec": {
   "display_name": "Python 3",
   "language": "python",
   "name": "python3"
  },
  "language_info": {
   "codemirror_mode": {
    "name": "ipython",
    "version": 3
   },
   "file_extension": ".py",
   "mimetype": "text/x-python",
   "name": "python",
   "nbconvert_exporter": "python",
   "pygments_lexer": "ipython3",
   "version": "3.8.5"
  }
 },
 "nbformat": 4,
 "nbformat_minor": 2
}
