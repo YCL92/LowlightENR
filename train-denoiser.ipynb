{
 "cells": [
  {
   "cell_type": "markdown",
   "metadata": {},
   "source": [
    "# Denoising Network Training"
   ]
  },
  {
   "cell_type": "markdown",
   "metadata": {
    "heading_collapsed": true
   },
   "source": [
    "## Includes"
   ]
  },
  {
   "cell_type": "code",
   "execution_count": null,
   "metadata": {
    "code_folding": [
     0
    ],
    "hidden": true
   },
   "outputs": [],
   "source": [
    "# mass includes\n",
    "import os, sys, warnings\n",
    "import ipdb\n",
    "import torch as t\n",
    "import torchnet as tnt\n",
    "from tqdm.notebook import tqdm\n",
    "from torch.nn.functional import mse_loss\n",
    "\n",
    "# add paths for all sub-folders\n",
    "paths = [root for root, _, _ in os.walk('.')\\\n",
    "         if 'evals' not in root]\n",
    "for item in paths:\n",
    "    sys.path.append(item)\n",
    "\n",
    "from ipynb.fs.full.config import Config\n",
    "from ipynb.fs.full.monitor import Visualizer\n",
    "from ipynb.fs.full.network import *\n",
    "from ipynb.fs.full.dataLoader import *\n",
    "from ipynb.fs.full.util import *"
   ]
  },
  {
   "cell_type": "markdown",
   "metadata": {
    "heading_collapsed": true
   },
   "source": [
    "## Initialization"
   ]
  },
  {
   "cell_type": "code",
   "execution_count": null,
   "metadata": {},
   "outputs": [],
   "source": [
    "cam_model = 'Pixel3'"
   ]
  },
  {
   "cell_type": "code",
   "execution_count": null,
   "metadata": {
    "code_folding": [
     0
    ],
    "hidden": true,
    "scrolled": true
   },
   "outputs": [],
   "source": [
    "# for debugging only\n",
    "%pdb off\n",
    "warnings.filterwarnings('ignore')\n",
    "\n",
    "# choose GPU if available\n",
    "os.environ[\"CUDA_DEVICE_ORDER\"] = \"PCI_BUS_ID\"\n",
    "os.environ[\"CUDA_VISIBLE_DEVICES\"] = '0'\n",
    "device = t.device('cuda' if t.cuda.is_available() else 'cpu')\n",
    "\n",
    "# define models\n",
    "opt = Config('denoise')\n",
    "net_N = Denoiser(cam_model=cam_model).to(device)\n",
    "\n",
    "# dataset for training\n",
    "train_dataset = DenoiseSet(opt, cam_model=cam_model, mode='train')\n",
    "train_loader = t.utils.data.DataLoader(train_dataset,\n",
    "                                       batch_size=opt.batch_size,\n",
    "                                       shuffle=True,\n",
    "                                       pin_memory=True,\n",
    "                                       num_workers=opt.num_workers)\n",
    "\n",
    "# dataset for validation\n",
    "val_dataset = DenoiseSet(opt, cam_model=cam_model, mode='val')\n",
    "val_loader = t.utils.data.DataLoader(val_dataset)\n",
    "\n",
    "# optimizer\n",
    "net_N_optim = t.optim.Adam(net_N.parameters(), lr=opt.lr)\n",
    "net_N_sched = t.optim.lr_scheduler.StepLR(net_N_optim,\n",
    "                                          step_size=opt.upd_freq,\n",
    "                                          gamma=opt.lr_decay)\n",
    "\n",
    "# loss function\n",
    "l1_loss = t.nn.L1Loss()\n",
    "mse_loss = t.nn.MSELoss()\n",
    "\n",
    "# visualizer\n",
    "vis = Visualizer(env='denoiser', port=8686)\n",
    "net_N_meter = tnt.meter.AverageValueMeter()"
   ]
  },
  {
   "cell_type": "markdown",
   "metadata": {},
   "source": [
    "## Validation"
   ]
  },
  {
   "cell_type": "code",
   "execution_count": null,
   "metadata": {
    "code_folding": [
     0
    ]
   },
   "outputs": [],
   "source": [
    "def validate():\n",
    "    # set to evaluation mode\n",
    "    net_N.eval()\n",
    "\n",
    "    psnr_list = []\n",
    "    for index, (noisy_raw, clean_raw, noise_map, ilm_coes,\n",
    "                cam2xyz) in enumerate(val_loader):\n",
    "        # copy to device\n",
    "        noisy_raw = noisy_raw.to(device)\n",
    "        clean_raw = clean_raw.to(device)\n",
    "        noise_map = noise_map.to(device)\n",
    "        ilm_coes = ilm_coes.to(device)\n",
    "        cam2xyz = cam2xyz.to(device)\n",
    "\n",
    "        # inference\n",
    "        with t.no_grad():\n",
    "            # initial denoising\n",
    "            dnoise_raw = net_N(noisy_raw, noise_map)\n",
    "\n",
    "            # illumination enhancement\n",
    "            for ch in range(ilm_coes.size(1)):\n",
    "                coe_slice = ilm_coes[:, ch, :, :].unsqueeze(1)\n",
    "\n",
    "                # for denoised image\n",
    "                lmn_img = rgb2lumin(dnoise_raw, cam2xyz)\n",
    "                res = coe_slice * (1.0 - lmn_img) * dnoise_raw\n",
    "                dnoise_raw = net_N(noisy_raw, noise_map, res)\n",
    "\n",
    "                # for clean image\n",
    "                lmn_img = rgb2lumin(clean_raw, cam2xyz)\n",
    "                res = coe_slice * (1.0 - lmn_img) * clean_raw\n",
    "                clean_raw = clean_raw + res\n",
    "                clean_raw = t.clamp(clean_raw, 0.0, 1.0)\n",
    "\n",
    "        # compute PSNR\n",
    "        psnr = 10 * t.log10(1 / mse_loss(dnoise_raw, clean_raw))\n",
    "        psnr_list.append(psnr)\n",
    "\n",
    "    # set to training mode\n",
    "    net_N.train(mode=True)\n",
    "    avg_psnr = t.mean(t.stack(psnr_list)).item()\n",
    "\n",
    "    return avg_psnr"
   ]
  },
  {
   "cell_type": "markdown",
   "metadata": {},
   "source": [
    "## Training entry"
   ]
  },
  {
   "cell_type": "code",
   "execution_count": null,
   "metadata": {
    "code_folding": [
     1
    ],
    "scrolled": false
   },
   "outputs": [],
   "source": [
    "prev_psnr = 0\n",
    "for epoch in tqdm(range(opt.max_epoch), desc='epoch', total=opt.max_epoch):\n",
    "    # reset meter\n",
    "    net_N_meter.reset()\n",
    "    net_N_sched.step()\n",
    "\n",
    "    for index, (noisy_raw, clean_raw, noise_map, ilm_coes,\n",
    "                cam2xyz) in enumerate(train_loader):\n",
    "        # copy to device\n",
    "        noisy_raw = noisy_raw.to(device)\n",
    "        clean_raw = clean_raw.to(device)\n",
    "        noise_map = noise_map.to(device)\n",
    "        ilm_coes = ilm_coes.to(device)\n",
    "        cam2xyz = cam2xyz.to(device)\n",
    "\n",
    "        # reset gradient\n",
    "        net_N_optim.zero_grad()\n",
    "\n",
    "        # initial denoising\n",
    "        dnoise_raw = net_N(noisy_raw, noise_map)\n",
    "        net_N_loss = l1_loss(dnoise_raw, clean_raw)\n",
    "\n",
    "        # illumination enhancement\n",
    "        for ch in range(ilm_coes.size(1)):\n",
    "            coe_slice = ilm_coes[:, ch, :, :].unsqueeze(1)\n",
    "\n",
    "            # for denoised image\n",
    "            lmn_img = rgb2lumin(dnoise_raw, cam2xyz)\n",
    "            res = coe_slice * (1.0 - lmn_img) * dnoise_raw\n",
    "            dnoise_raw = net_N(noisy_raw, noise_map, res)\n",
    "\n",
    "            # for clean image\n",
    "            lmn_img = rgb2lumin(clean_raw, cam2xyz)\n",
    "            res = coe_slice * (1.0 - lmn_img) * clean_raw\n",
    "            clean_raw = clean_raw + res\n",
    "            clean_raw = t.clamp(clean_raw, 0.0, 1.0)\n",
    "\n",
    "            # update loss\n",
    "            net_N_loss = net_N_loss + l1_loss(dnoise_raw, clean_raw)\n",
    "\n",
    "        # update network params\n",
    "        net_N_loss.backward()\n",
    "        net_N_optim.step()\n",
    "\n",
    "        # add to loss meter for logging\n",
    "        net_N_meter.add(net_N_loss.item())\n",
    "\n",
    "    # show training status\n",
    "    for ch in range(ilm_coes.size(1)):\n",
    "        coe_slice = ilm_coes[:, ch, :, :].unsqueeze(1)\n",
    "\n",
    "        # for clean image\n",
    "        lmn_img = rgb2lumin(noisy_raw, cam2xyz)\n",
    "        res = coe_slice * (1.0 - lmn_img) * noisy_raw\n",
    "        noisy_raw = noisy_raw + res\n",
    "        noisy_raw = t.clamp(noisy_raw, 0.0, 1.0)\n",
    "    noisy_img = cam2sRGB(noisy_raw, cam2xyz)\n",
    "    noisy_img = t.where(noisy_img <= 0.0031308, 12.92 * noisy_img,\n",
    "                        1.055 * (noisy_img**(1 / 2.4)) - 0.055)\n",
    "    dnoise_img = cam2sRGB(dnoise_raw, cam2xyz)\n",
    "    dnoise_img = t.where(dnoise_img <= 0.0031308, 12.92 * dnoise_img,\n",
    "                         1.055 * (dnoise_img**(1 / 2.4)) - 0.055)\n",
    "    clean_img = cam2sRGB(clean_raw, cam2xyz)\n",
    "    clean_img = t.where(clean_img <= 0.0031308, 12.92 * clean_img,\n",
    "                        1.055 * (clean_img**(1 / 2.4)) - 0.055)\n",
    "    disp_img = t.cat([noisy_img, dnoise_img, clean_img], dim=3)[0, :, :, :]\n",
    "    vis.img('noisy/pred/gt', disp_img.cpu() * 255)\n",
    "    vis.plot('loss(net_N)', net_N_meter.value()[0])\n",
    "\n",
    "    # perform validation and save models if needed\n",
    "    cur_psnr = validate()\n",
    "    if cur_psnr > prev_psnr:\n",
    "        net_N.save()\n",
    "        prev_psnr = cur_psnr\n",
    "        vis.log('epoch: %d, val psnr: %.2f' % (epoch, cur_psnr))"
   ]
  }
 ],
 "metadata": {
  "kernelspec": {
   "display_name": "Python 3",
   "language": "python",
   "name": "python3"
  },
  "language_info": {
   "codemirror_mode": {
    "name": "ipython",
    "version": 3
   },
   "file_extension": ".py",
   "mimetype": "text/x-python",
   "name": "python",
   "nbconvert_exporter": "python",
   "pygments_lexer": "ipython3",
   "version": "3.8.10"
  },
  "toc": {
   "nav_menu": {},
   "number_sections": true,
   "sideBar": true,
   "skip_h1_title": true,
   "title_cell": "Table of Contents",
   "title_sidebar": "Contents",
   "toc_cell": false,
   "toc_position": {},
   "toc_section_display": true,
   "toc_window_display": false
  },
  "varInspector": {
   "cols": {
    "lenName": 16,
    "lenType": 16,
    "lenVar": 40
   },
   "kernels_config": {
    "python": {
     "delete_cmd_postfix": "",
     "delete_cmd_prefix": "del ",
     "library": "var_list.py",
     "varRefreshCmd": "print(var_dic_list())"
    },
    "r": {
     "delete_cmd_postfix": ") ",
     "delete_cmd_prefix": "rm(",
     "library": "var_list.r",
     "varRefreshCmd": "cat(var_dic_list()) "
    }
   },
   "types_to_exclude": [
    "module",
    "function",
    "builtin_function_or_method",
    "instance",
    "_Feature"
   ],
   "window_display": false
  }
 },
 "nbformat": 4,
 "nbformat_minor": 2
}
