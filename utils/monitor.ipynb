{
 "cells": [
  {
   "cell_type": "markdown",
   "metadata": {},
   "source": [
    "# Visualizer"
   ]
  },
  {
   "cell_type": "markdown",
   "metadata": {
    "heading_collapsed": true
   },
   "source": [
    "## Includes"
   ]
  },
  {
   "cell_type": "code",
   "execution_count": null,
   "metadata": {
    "code_folding": [
     0
    ],
    "hidden": true
   },
   "outputs": [],
   "source": [
    "# mass includes\n",
    "import time\n",
    "import visdom\n",
    "import numpy as np\n",
    "import torchvision as tv"
   ]
  },
  {
   "cell_type": "markdown",
   "metadata": {
    "heading_collapsed": true
   },
   "source": [
    "## Some useful visdom methods"
   ]
  },
  {
   "cell_type": "code",
   "execution_count": null,
   "metadata": {
    "code_folding": [
     0
    ],
    "hidden": true
   },
   "outputs": [],
   "source": [
    "class Visualizer():\n",
    "    def __init__(self, env='main', port=8097, **kwargs):\n",
    "        self.vis = visdom.Visdom(port=port, env=env, **kwargs)\n",
    "        self.index = {}\n",
    "        self.log_text = ''\n",
    "\n",
    "    def reinit(self, env='main', port=8097, **kwargs):\n",
    "        self.vis = visdom.Visdom(port=port, env=env, **kwargs)\n",
    "\n",
    "        return self\n",
    "\n",
    "    # show a new log\n",
    "    def log(self, info, win='log_text'):\n",
    "        self.log_text += (\n",
    "            '[%s] %s <br>' % (time.strftime('%m%d_%H%M%S'), info))\n",
    "        self.vis.text(self.log_text, win=win)\n",
    "\n",
    "    # plot single data\n",
    "    def plot(self, name, y):\n",
    "        x = self.index.get(name, 0)\n",
    "        self.vis.line(\n",
    "            Y=np.array([y]),\n",
    "            X=np.array([x]),\n",
    "            win=name,\n",
    "            opts=dict(title=name),\n",
    "            update=None if x == 0 else 'append')\n",
    "        self.index[name] = x + 1\n",
    "\n",
    "    # plot multiple data\n",
    "    def multiPlot(self, d):\n",
    "        for k, v in d.items():\n",
    "            self.plot(k, v)\n",
    "\n",
    "    # plot single image\n",
    "    def img(self, name, img):\n",
    "        if len(img.size()) < 3:\n",
    "            img = img.cpu().unsqueeze(0)\n",
    "        self.vis.image(img.cpu(), win=name, opts=dict(title=name))\n",
    "\n",
    "    # plot multiple images\n",
    "    def multiImg(self, d):\n",
    "        for k, v in d.items():\n",
    "            self.img(k, v)\n",
    "\n",
    "    # plot multiple images in one grid\n",
    "    def img_grid(self, name, input_3d):\n",
    "        self.img(\n",
    "            name,\n",
    "            tv.utils.make_grid(input_3d.cpu()[0].unsqueeze(1).clamp(\n",
    "                max=1, min=0)))\n",
    "\n",
    "    # plot multiple image grids\n",
    "    def img_grid_many(self, d):\n",
    "        for k, v in d.items():\n",
    "            self.img_grid(k, v)\n",
    "\n",
    "    # other visdom methods\n",
    "    def __getattr__(self, name):\n",
    "\n",
    "        return getattr(self.vis, name)"
   ]
  }
 ],
 "metadata": {
  "kernelspec": {
   "display_name": "Python 3",
   "language": "python",
   "name": "python3"
  },
  "language_info": {
   "codemirror_mode": {
    "name": "ipython",
    "version": 3
   },
   "file_extension": ".py",
   "mimetype": "text/x-python",
   "name": "python",
   "nbconvert_exporter": "python",
   "pygments_lexer": "ipython3",
   "version": "3.8.6"
  },
  "toc": {
   "nav_menu": {},
   "number_sections": true,
   "sideBar": true,
   "skip_h1_title": true,
   "title_cell": "Table of Contents",
   "title_sidebar": "Contents",
   "toc_cell": false,
   "toc_position": {},
   "toc_section_display": true,
   "toc_window_display": false
  },
  "varInspector": {
   "cols": {
    "lenName": 16,
    "lenType": 16,
    "lenVar": 40
   },
   "kernels_config": {
    "python": {
     "delete_cmd_postfix": "",
     "delete_cmd_prefix": "del ",
     "library": "var_list.py",
     "varRefreshCmd": "print(var_dic_list())"
    },
    "r": {
     "delete_cmd_postfix": ") ",
     "delete_cmd_prefix": "rm(",
     "library": "var_list.r",
     "varRefreshCmd": "cat(var_dic_list()) "
    }
   },
   "types_to_exclude": [
    "module",
    "function",
    "builtin_function_or_method",
    "instance",
    "_Feature"
   ],
   "window_display": false
  }
 },
 "nbformat": 4,
 "nbformat_minor": 2
}
