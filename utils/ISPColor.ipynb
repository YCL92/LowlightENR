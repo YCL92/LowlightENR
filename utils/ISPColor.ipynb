{
 "cells": [
  {
   "cell_type": "markdown",
   "metadata": {},
   "source": [
    "# ISP Color Space Functions"
   ]
  },
  {
   "cell_type": "markdown",
   "metadata": {},
   "source": [
    "## Includes"
   ]
  },
  {
   "cell_type": "code",
   "execution_count": 1,
   "metadata": {
    "code_folding": [
     0
    ]
   },
   "outputs": [],
   "source": [
    "# mass includes\n",
    "import os\n",
    "import colour\n",
    "import numpy as np\n",
    "import pyexiv2 as exiv2\n",
    "import rawpy as rp\n",
    "from colour_demosaicing import demosaicing_CFA_Bayer_Malvar2004 as demosaicing\n",
    "from tqdm.notebook import tqdm"
   ]
  },
  {
   "cell_type": "markdown",
   "metadata": {},
   "source": [
    "## Extract metadata"
   ]
  },
  {
   "cell_type": "code",
   "execution_count": 2,
   "metadata": {
    "code_folding": [
     1
    ]
   },
   "outputs": [],
   "source": [
    "# extract metadata\n",
    "def extMetadata(file_path):\n",
    "    # load all metadata\n",
    "    file_md = exiv2.ImageMetadata(file_path)\n",
    "    file_md.read()\n",
    "\n",
    "    # metadata dictionary with default params\n",
    "    metadata = {}\n",
    "    metadata['cali_mat1'] = np.identity(3, dtype=np.float32)\n",
    "    metadata['cali_mat2'] = np.identity(3, dtype=np.float32)\n",
    "    metadata['ab_mat'] = np.identity(3, dtype=np.float32)\n",
    "    metadata['cali_flag'] = False\n",
    "\n",
    "    for key in file_md:\n",
    "        # extract camera white point\n",
    "        if 'AsShotNeutral' in key:\n",
    "            shot_wp = file_md[key].value\n",
    "            shot_wp = np.array(shot_wp, dtype=np.float32)\n",
    "            metadata['shot_wb'] = shot_wp\n",
    "            continue\n",
    "\n",
    "        # extract calibration illuminations\n",
    "        if 'CalibrationIlluminant1' in key:\n",
    "            cali_illum1 = file_md[key].value\n",
    "            metadata['cali_illum1'] = cali_illum1\n",
    "            continue\n",
    "        if 'CalibrationIlluminant2' in key:\n",
    "            cali_illum2 = file_md[key].value\n",
    "            metadata['cali_illum2'] = cali_illum2\n",
    "            continue\n",
    "\n",
    "        # extract color matrices\n",
    "        if 'ColorMatrix1' in key:\n",
    "            clr_mat1 = file_md[key].value\n",
    "            clr_mat1 = np.array(clr_mat1, dtype=np.float32).reshape((3, 3))\n",
    "            metadata['clr_mat1'] = clr_mat1\n",
    "            continue\n",
    "        if 'ColorMatrix2' in key:\n",
    "            clr_mat2 = file_md[key].value\n",
    "            clr_mat2 = np.array(clr_mat2, dtype=np.float32).reshape((3, 3))\n",
    "            metadata['clr_mat2'] = clr_mat2\n",
    "            continue\n",
    "\n",
    "        # extract calibration matrices\n",
    "        if 'CameraCalibration1' in key:\n",
    "            cali_mat1 = file_md[key].value\n",
    "            cali_mat1 = np.array(cali_mat1, dtype=np.float32).reshape((3, 3))\n",
    "            metadata['cali_mat1'] = cali_mat1\n",
    "            continue\n",
    "        if 'CameraCalibration2' in key:\n",
    "            cali_mat2 = file_md[key].value\n",
    "            cali_mat2 = np.array(cali_mat2, dtype=np.float32).reshape((3, 3))\n",
    "            metadata['cali_mat2'] = cali_mat2\n",
    "            continue\n",
    "\n",
    "        # extract forward matrices\n",
    "        if 'ForwardMatrix1' in key:\n",
    "            fwd_mat1 = file_md[key].value\n",
    "            fwd_mat1 = np.array(fwd_mat1, dtype=np.float32).reshape((3, 3))\n",
    "            metadata['fwd_mat1'] = fwd_mat1\n",
    "            continue\n",
    "        if 'ForwardMatrix2' in key:\n",
    "            fwd_mat2 = file_md[key].value\n",
    "            fwd_mat2 = np.array(fwd_mat2, dtype=np.float32).reshape((3, 3))\n",
    "            metadata['fwd_mat2'] = fwd_mat2\n",
    "            metadata['cali_flag'] = True\n",
    "\n",
    "        # camera ISO\n",
    "        if 'ISOSpeedRatings' in key:\n",
    "            cam_iso = file_md[key].value\n",
    "            metadata['iso'] = cam_iso\n",
    "            continue\n",
    "\n",
    "        if 'NoiseProfile' in key:\n",
    "            cam_noise = file_md[key].raw_value.split()\n",
    "            cam_noise = np.array(cam_noise, dtype=np.float32)\n",
    "            metadata['noise'] = cam_noise\n",
    "            continue\n",
    "\n",
    "    return metadata"
   ]
  },
  {
   "cell_type": "markdown",
   "metadata": {},
   "source": [
    "## Compute cam2XYZ white point"
   ]
  },
  {
   "cell_type": "code",
   "execution_count": 3,
   "metadata": {
    "code_folding": [
     1,
     15
    ]
   },
   "outputs": [],
   "source": [
    "# convert XYZ to color temperature\n",
    "def color2Mierd(sample):\n",
    "    # convert to CIE xy chromaticity\n",
    "    xy = colour.XYZ_to_xy(sample)\n",
    "\n",
    "    # convert to color temperature\n",
    "    tcp = colour.xy_to_CCT(xy, method='McCamy 1992')\n",
    "\n",
    "    # convert to Mierd\n",
    "    mierd = 1e+6 / tcp\n",
    "\n",
    "    return mierd\n",
    "\n",
    "\n",
    "# find asShotNeutural in XYZ space\n",
    "def cam2xyzWP(metadata, max_iter=100, acc=1e-8):\n",
    "    # find calibration light source\n",
    "    illum_list = {\n",
    "        17: [1.09850, 1.0, 0.35585],\n",
    "        18: [0.99072, 1.0, 0.85223],\n",
    "        19: [0.98074, 1.0, 1.18232],\n",
    "        20: [0.95682, 1.0, 0.92149],\n",
    "        21: [0.95047, 1.0, 1.08883],\n",
    "        22: [0.94972, 1.0, 1.22638],\n",
    "        23: [0.96422, 1.0, 0.82521]\n",
    "    }\n",
    "    cali_illum1 = illum_list[metadata['cali_illum1']]\n",
    "    cali_illum2 = illum_list[metadata['cali_illum2']]\n",
    "    cali1_tcp = color2Mierd(cali_illum1)\n",
    "    cali2_tcp = color2Mierd(cali_illum2)\n",
    "\n",
    "    # analog balance\n",
    "    ab_mat = metadata['ab_mat']\n",
    "\n",
    "    # perform camera white point interpolation\n",
    "    if metadata['cali_flag'] == True:\n",
    "        upd_wp = illum_list[23]\n",
    "        interp_w = 0.5\n",
    "        for index in range(max_iter):\n",
    "            # get white point temperature\n",
    "            wp_tcp = color2Mierd(upd_wp)\n",
    "\n",
    "            # handle out-of-range sample\n",
    "            if wp_tcp >= cali1_tcp:\n",
    "                interp_w = 1.0\n",
    "            elif wp_tcp <= cali2_tcp:\n",
    "                interp_w = 0.0\n",
    "            else:\n",
    "                interp_w = (wp_tcp - cali2_tcp) / (cali1_tcp - cali2_tcp)\n",
    "\n",
    "            # interpolate transform matrices\n",
    "            cali_mat = interp_w * metadata['cali_mat1'] + (\n",
    "                1.0 - interp_w) * metadata['cali_mat2']\n",
    "            clr_mat = interp_w * metadata['clr_mat1'] + (\n",
    "                1.0 - interp_w) * metadata['clr_mat2']\n",
    "            xyz2cam = np.matmul(ab_mat, np.matmul(cali_mat, clr_mat))\n",
    "            cam2xyz = np.linalg.inv(xyz2cam)\n",
    "            xyz_wp = np.matmul(cam2xyz,\n",
    "                               metadata['shot_wb'].reshape(-1, 1)).reshape(-1)\n",
    "            dist = np.linalg.norm(\n",
    "                colour.XYZ_to_xy(upd_wp) - colour.XYZ_to_xy(xyz_wp))\n",
    "            upd_wp = xyz_wp\n",
    "\n",
    "            # exit loop if converge\n",
    "            if dist < acc:\n",
    "                break\n",
    "\n",
    "    # no enough info, use default\n",
    "    else:\n",
    "        interp_w = 1.0\n",
    "        cali_mat = metadata['cali_mat1']\n",
    "        clr_mat = metadata['clr_mat1']\n",
    "        xyz2cam = np.matmul(ab_mat, np.matmul(cali_mat, clr_mat))\n",
    "        cam2xyz = np.linalg.inv(xyz2cam)\n",
    "        upd_wp = np.matmul(cam2xyz, metadata['shot_wb'].reshape(-1,\n",
    "                                                                1)).reshape(-1)\n",
    "\n",
    "    return upd_wp, interp_w"
   ]
  },
  {
   "cell_type": "markdown",
   "metadata": {},
   "source": [
    "## Compute cam2XYZ-D50 matrix"
   ]
  },
  {
   "cell_type": "code",
   "execution_count": 4,
   "metadata": {
    "code_folding": [
     1,
     14
    ]
   },
   "outputs": [],
   "source": [
    "# Bradford algorithm\n",
    "def BradfordAdpt(src_xyz, tgt_xyz):\n",
    "    cat02 = np.array([[0.7328, 0.4296, -0.1624], [-0.7036, 1.6975, 0.0061],\n",
    "                      [0.0030, 0.0136, 0.9834]])\n",
    "    src = np.matmul(cat02, src_xyz.reshape(-1, 1)).reshape(-1)\n",
    "    pcs = np.matmul(cat02, tgt_xyz.reshape(-1, 1)).reshape(-1)\n",
    "    t_mat = np.array([[pcs[0] / src[0], 0, 0], [0, pcs[1] / src[1], 0],\n",
    "                      [0, 0, pcs[2] / src[2]]])\n",
    "    adpt_mat = np.linalg.lstsq(cat02, np.matmul(t_mat, cat02), rcond=None)[0]\n",
    "\n",
    "    return adpt_mat\n",
    "\n",
    "\n",
    "# compute camera to XYZ(D50) transform matrix\n",
    "def cam2xyzD50(metadata, wp_xyz, interp_w):\n",
    "    # analog balance\n",
    "    ab_mat = metadata['ab_mat']\n",
    "\n",
    "    # interpolate transform matrices\n",
    "    cali_mat = interp_w * metadata['cali_mat1'] + (\n",
    "        1 - interp_w) * metadata['cali_mat2']\n",
    "    clr_mat = interp_w * metadata['clr_mat1'] + (\n",
    "        1 - interp_w) * metadata['clr_mat2']\n",
    "\n",
    "    # with forward matrices\n",
    "    if metadata['cali_flag'] == True:\n",
    "        # interpolate forward mat\n",
    "        fwd_mat = interp_w * metadata['fwd_mat1'] + (\n",
    "            1 - interp_w) * metadata['fwd_mat2']\n",
    "\n",
    "        # compute camera to XYZ(D50) transform matrix\n",
    "        abcc_inv = np.linalg.inv(np.matmul(ab_mat, cali_mat))\n",
    "        ref_wp = np.matmul(abcc_inv, metadata['shot_wb'])\n",
    "        wb_diag = np.linalg.inv(np.diag(ref_wp.reshape(-1)))\n",
    "        cam2xyz_d50 = np.matmul(fwd_mat, np.matmul(wb_diag, abcc_inv))\n",
    "\n",
    "    # without forward matrices\n",
    "    else:\n",
    "        d50_xyz = np.array([0.9642, 1.0, 0.8252])\n",
    "        xyz2cam = np.matmul(ab_mat, np.matmul(cali_mat, clr_mat))\n",
    "        cam2xyz = np.linalg.inv(xyz2cam)\n",
    "        ca_dig = BradfordAdpt(wp_xyz, d50_xyz)\n",
    "        cam2xyz_d50 = np.matmul(ca_dig, cam2xyz)\n",
    "\n",
    "    return cam2xyz_d50"
   ]
  },
  {
   "cell_type": "markdown",
   "metadata": {},
   "source": [
    "## Camera white point to sRGB-D65"
   ]
  },
  {
   "cell_type": "code",
   "execution_count": 5,
   "metadata": {
    "code_folding": [
     0
    ]
   },
   "outputs": [],
   "source": [
    "def cam2sRGB(raw_img, cam2xyz):\n",
    "    xyz2srgb = np.array([[3.1339, -1.6169, -0.4907],\\\n",
    "                         [-0.9784, 1.9158, 0.0334],\\\n",
    "                         [0.0720, -0.2290, 1.4057]])\n",
    "    hei, wid, _ = raw_img.shape\n",
    "    raw_img = np.transpose(raw_img, (2, 0, 1)).reshape(3, -1)\n",
    "    xyz_img = np.matmul(cam2xyz, raw_img)\n",
    "    xyz_img = np.clip(xyz_img, 0.0, 1.0)\n",
    "    srgb_img = np.matmul(xyz2srgb, xyz_img)\n",
    "    srgb_img = np.clip(srgb_img, 0.0, 1.0)\n",
    "    srgb_img = srgb_img.reshape((3, hei, wid))\n",
    "    srgb_img = np.transpose(srgb_img, (1, 2, 0))\n",
    "\n",
    "    return srgb_img"
   ]
  }
 ],
 "metadata": {
  "kernelspec": {
   "display_name": "Python 3",
   "language": "python",
   "name": "python3"
  },
  "language_info": {
   "codemirror_mode": {
    "name": "ipython",
    "version": 3
   },
   "file_extension": ".py",
   "mimetype": "text/x-python",
   "name": "python",
   "nbconvert_exporter": "python",
   "pygments_lexer": "ipython3",
   "version": "3.8.10"
  }
 },
 "nbformat": 4,
 "nbformat_minor": 4
}
