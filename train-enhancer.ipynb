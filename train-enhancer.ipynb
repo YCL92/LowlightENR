{
 "cells": [
  {
   "cell_type": "markdown",
   "metadata": {},
   "source": [
    "# Enhancement Network Training"
   ]
  },
  {
   "cell_type": "markdown",
   "metadata": {
    "heading_collapsed": true
   },
   "source": [
    "## Includes"
   ]
  },
  {
   "cell_type": "code",
   "execution_count": null,
   "metadata": {
    "code_folding": [
     0
    ],
    "hidden": true
   },
   "outputs": [],
   "source": [
    "# mass includes\n",
    "import os, sys, warnings\n",
    "import ipdb\n",
    "import torch as t\n",
    "import torchnet as tnt\n",
    "from torch.utils.data import WeightedRandomSampler\n",
    "from tqdm.notebook import tqdm\n",
    "from torchvision.utils import save_image\n",
    "\n",
    "# add paths for all sub-folders\n",
    "paths = [root for root, _, _ in os.walk('.') if 'evals' not in root]\n",
    "for item in paths:\n",
    "    sys.path.append(item)\n",
    "\n",
    "from ipynb.fs.full.config import Config\n",
    "from ipynb.fs.full.monitor import Visualizer\n",
    "from ipynb.fs.full.network import *\n",
    "from ipynb.fs.full.dataLoader import *\n",
    "from ipynb.fs.full.util import *"
   ]
  },
  {
   "cell_type": "markdown",
   "metadata": {
    "heading_collapsed": true
   },
   "source": [
    "## Initialization"
   ]
  },
  {
   "cell_type": "code",
   "execution_count": null,
   "metadata": {
    "code_folding": [
     0
    ],
    "hidden": true,
    "scrolled": false
   },
   "outputs": [],
   "source": [
    "# for debugging only\n",
    "%pdb off\n",
    "warnings.filterwarnings('ignore')\n",
    "\n",
    "# choose GPU if available\n",
    "os.environ[\"CUDA_DEVICE_ORDER\"] = \"PCI_BUS_ID\"\n",
    "os.environ[\"CUDA_VISIBLE_DEVICES\"] = '0'\n",
    "device = t.device('cuda' if t.cuda.is_available() else 'cpu')\n",
    "\n",
    "# define models\n",
    "opt = Config('unpaired')\n",
    "net_D = Discriminator().to(device)\n",
    "net_E = Enhancer(pretrain=True).to(device)\n",
    "\n",
    "# load pre-trained model if necessary\n",
    "net_D.load()\n",
    "net_E.load(model_name='Enhancer_pretrain')\n",
    "\n",
    "# set discriminator to validation mode\n",
    "net_D.eval()\n",
    "for param in net_D.parameters():\n",
    "    param.requires_grad = False\n",
    "\n",
    "# dataset for training\n",
    "train_dataset = UnpairedSet(opt)\n",
    "sampler = WeightedRandomSampler(train_dataset.weight_list,\n",
    "                                num_samples=len(train_dataset))\n",
    "train_loader = t.utils.data.DataLoader(train_dataset,\n",
    "                                       batch_size=opt.batch_size,\n",
    "                                       sampler=sampler,\n",
    "                                       num_workers=opt.num_workers,\n",
    "                                       pin_memory=True)\n",
    "\n",
    "# dataset for validation\n",
    "val_dataset = ValSet(opt, 'val')\n",
    "val_loader = t.utils.data.DataLoader(val_dataset)\n",
    "\n",
    "# optimizer\n",
    "net_E_optim = t.optim.Adam(net_E.parameters(), lr=opt.lr)\n",
    "net_E_sched = t.optim.lr_scheduler.StepLR(net_E_optim,\n",
    "                                          step_size=opt.upd_freq,\n",
    "                                          gamma=opt.lr_decay)\n",
    "\n",
    "# loss function\n",
    "exp_loss = expLoss(shadow=opt.shadow, sigma=opt.sigma)\n",
    "vgg_loss = vgg16Loss(device)\n",
    "bce_loss = t.nn.BCEWithLogitsLoss()\n",
    "tv_loss = tvLoss()\n",
    "\n",
    "# visualizer\n",
    "vis = Visualizer(env='unpaired', port=8686)\n",
    "net_E_meter = tnt.meter.AverageValueMeter()\n",
    "\n",
    "# make folder for validation results\n",
    "save_root = './valResults'\n",
    "if not os.path.exists(save_root):\n",
    "    os.makedirs(save_root)"
   ]
  },
  {
   "cell_type": "markdown",
   "metadata": {},
   "source": [
    "## Validation"
   ]
  },
  {
   "cell_type": "code",
   "execution_count": null,
   "metadata": {
    "code_folding": [
     0
    ]
   },
   "outputs": [],
   "source": [
    "def validate(epoch):\n",
    "    # set to evaluation mode\n",
    "    net_E.eval()\n",
    "\n",
    "    for (cam_img, cam2xyz, file_name) in val_loader:\n",
    "        with t.no_grad():\n",
    "            # copy to device\n",
    "            cam_img = cam_img.to(device)\n",
    "            cam2xyz = cam2xyz.to(device)\n",
    "\n",
    "            # downsize\n",
    "            srgb_img = cam2sRGB(cam_img, cam2xyz)\n",
    "            down_img = downsize(srgb_img)\n",
    "\n",
    "            # inference\n",
    "            ilm_coes, clr_coes = net_E(down_img, srgb_img)\n",
    "            pred_ilm_img = applyIlmCoes(srgb_img, ilm_coes)\n",
    "            pred_clr_img = applyClrCoes(pred_ilm_img, clr_coes)\n",
    "\n",
    "            # save result\n",
    "            cat_img = t.cat([pred_ilm_img, pred_clr_img], dim=-1)\n",
    "            save_image(\n",
    "                cat_img.cpu().squeeze(),\n",
    "                os.path.join(save_root,\n",
    "                             file_name[0][:-4] + '_ep%03d.png' % epoch))\n",
    "\n",
    "    # set to training mode\n",
    "    net_E.train(mode=True)\n",
    "\n",
    "    return"
   ]
  },
  {
   "cell_type": "markdown",
   "metadata": {},
   "source": [
    "## Training entry"
   ]
  },
  {
   "cell_type": "code",
   "execution_count": null,
   "metadata": {
    "code_folding": [
     0
    ],
    "scrolled": false
   },
   "outputs": [],
   "source": [
    "for epoch in tqdm(range(opt.max_epoch), desc='epoch', total=opt.max_epoch):\n",
    "    # reset meter and update learning rate\n",
    "    net_E_meter.reset()\n",
    "    net_E_sched.step()\n",
    "\n",
    "    for index, (lin_img, nlin_img) in enumerate(train_loader):\n",
    "        # copy to device\n",
    "        lin_img = lin_img.to(device)\n",
    "        nlin_img = nlin_img.to(device)\n",
    "\n",
    "        # downsample\n",
    "        lin_img = downsize(lin_img)\n",
    "        nlin_img = downsize(nlin_img)\n",
    "\n",
    "        # reset gradient\n",
    "        net_E_optim.zero_grad()\n",
    "\n",
    "        # train generator\n",
    "        ilm_coes, clr_coes = net_E(lin_img, lin_img)\n",
    "        pred_ilm_img = applyIlmCoes(lin_img, ilm_coes)\n",
    "        pred_clr_img = applyClrCoes(pred_ilm_img.detach(), clr_coes)\n",
    "        pred_fake = net_D(pred_ilm_img, pred_clr_img)\n",
    "\n",
    "        # compute generator loss\n",
    "        illum_loss = exp_loss(nlin_img, pred_ilm_img)\n",
    "        color_loss = bce_loss(pred_fake, t.ones_like(pred_fake))\n",
    "        pecpt_loss = (vgg_loss(nlin_img, pred_ilm_img) +\n",
    "                      vgg_loss(pred_ilm_img, pred_clr_img)) / 2\n",
    "        smooth_loss = tv_loss(ilm_coes)\n",
    "        net_E_loss = illum_loss + opt.w_color * color_loss + pecpt_loss + opt.w_smooth * smooth_loss\n",
    "\n",
    "        # update generator\n",
    "        net_E_loss.backward()\n",
    "        net_E_optim.step()\n",
    "\n",
    "        # add to loss meter for logging\n",
    "        net_E_meter.add(net_E_loss.item())\n",
    "\n",
    "    # show training status\n",
    "    disp_img = t.clamp(t.cat([nlin_img, pred_ilm_img, pred_clr_img], dim=3),\n",
    "                       0.0, 1.0)[0, :, :, :]\n",
    "    vis.img('input/pred illum/pred color', disp_img.cpu() * 255)\n",
    "\n",
    "    # perform validation and save models\n",
    "    if (epoch + 1) % opt.save_freq == 0:\n",
    "        validate(epoch + 1)\n",
    "        net_E.save()"
   ]
  }
 ],
 "metadata": {
  "kernelspec": {
   "display_name": "Python 3",
   "language": "python",
   "name": "python3"
  },
  "language_info": {
   "codemirror_mode": {
    "name": "ipython",
    "version": 3
   },
   "file_extension": ".py",
   "mimetype": "text/x-python",
   "name": "python",
   "nbconvert_exporter": "python",
   "pygments_lexer": "ipython3",
   "version": "3.8.10"
  },
  "toc": {
   "nav_menu": {},
   "number_sections": true,
   "sideBar": true,
   "skip_h1_title": true,
   "title_cell": "Table of Contents",
   "title_sidebar": "Contents",
   "toc_cell": false,
   "toc_position": {},
   "toc_section_display": true,
   "toc_window_display": false
  },
  "varInspector": {
   "cols": {
    "lenName": 16,
    "lenType": 16,
    "lenVar": 40
   },
   "kernels_config": {
    "python": {
     "delete_cmd_postfix": "",
     "delete_cmd_prefix": "del ",
     "library": "var_list.py",
     "varRefreshCmd": "print(var_dic_list())"
    },
    "r": {
     "delete_cmd_postfix": ") ",
     "delete_cmd_prefix": "rm(",
     "library": "var_list.r",
     "varRefreshCmd": "cat(var_dic_list()) "
    }
   },
   "types_to_exclude": [
    "module",
    "function",
    "builtin_function_or_method",
    "instance",
    "_Feature"
   ],
   "window_display": false
  }
 },
 "nbformat": 4,
 "nbformat_minor": 2
}
