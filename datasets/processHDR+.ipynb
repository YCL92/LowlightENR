{
 "cells": [
  {
   "cell_type": "markdown",
   "metadata": {},
   "source": [
    "# Dataset Synthesis"
   ]
  },
  {
   "cell_type": "markdown",
   "metadata": {},
   "source": [
    "## Includes"
   ]
  },
  {
   "cell_type": "code",
   "execution_count": null,
   "metadata": {
    "code_folding": [
     0
    ]
   },
   "outputs": [],
   "source": [
    "# mass includes\n",
    "import os, sys\n",
    "import pickle\n",
    "import math\n",
    "import numpy as np\n",
    "import rawpy as rp\n",
    "import pyexiv2 as exiv2\n",
    "import matplotlib.pyplot as plt\n",
    "import multiprocessing as par\n",
    "from skimage.transform.pyramids import pyramid_reduce\n",
    "from tqdm.notebook import tqdm\n",
    "\n",
    "# add paths for all sub-folders\n",
    "paths = [root for root, _, _ in os.walk('..') if 'evals' not in root]\n",
    "for item in paths:\n",
    "    sys.path.append(item)\n",
    "\n",
    "from ipynb.fs.full.config import Config\n",
    "from ipynb.fs.full.util import unifyBayerPtn\n",
    "from ipynb.fs.full.ISPColor import *"
   ]
  },
  {
   "cell_type": "markdown",
   "metadata": {},
   "source": [
    "## Initialization"
   ]
  },
  {
   "cell_type": "code",
   "execution_count": null,
   "metadata": {},
   "outputs": [],
   "source": [
    "data_root = '/home/lab/Documents/ssd/PlieCNR/HDR+'\n",
    "min_px = 640  # minimal output size"
   ]
  },
  {
   "cell_type": "code",
   "execution_count": null,
   "metadata": {
    "code_folding": [
     0
    ]
   },
   "outputs": [],
   "source": [
    "# find all samples\n",
    "file_list = [\n",
    "    file for file in os.listdir(data_root) if '.dng' in file or '.DNG' in file\n",
    "]\n",
    "file_list.sort()\n",
    "\n",
    "# path to saves\n",
    "save_path = os.path.join(data_root, '../unpaired')\n",
    "if not os.path.exists(save_path):\n",
    "    os.makedirs(save_path)"
   ]
  },
  {
   "cell_type": "markdown",
   "metadata": {},
   "source": [
    "## Generate unpaired dataset"
   ]
  },
  {
   "cell_type": "code",
   "execution_count": null,
   "metadata": {
    "code_folding": [
     1
    ]
   },
   "outputs": [],
   "source": [
    "# generate new sample\n",
    "def genSample(file):\n",
    "    # load a new file\n",
    "    file_path = os.path.join(data_root, file)\n",
    "    with rp.imread(file_path) as raw_obj:\n",
    "        raw_bayer = raw_obj.raw_image_visible.copy()\n",
    "        raw_mask = raw_obj.raw_colors_visible\n",
    "        blk_level = raw_obj.black_level_per_channel\n",
    "        sat_level = raw_obj.white_level\n",
    "        raw_type = raw_obj.raw_pattern\n",
    "\n",
    "    # normalize to 0-1\n",
    "    raw_bayer = raw_bayer.astype(np.float64)\n",
    "    raw_bayer[raw_mask == 0] = raw_bayer[raw_mask == 0] - blk_level[0]\n",
    "    raw_bayer[raw_mask == 1] = raw_bayer[raw_mask == 1] - blk_level[1]\n",
    "    raw_bayer[raw_mask == 2] = raw_bayer[raw_mask == 2] - blk_level[2]\n",
    "    raw_bayer[raw_mask == 3] = raw_bayer[raw_mask == 3] - blk_level[3]\n",
    "    raw_bayer = raw_bayer / (sat_level - max(blk_level))\n",
    "    raw_bayer = np.clip(raw_bayer, 0.0, 1.0)\n",
    "\n",
    "    # Bayer pattern unification\n",
    "    raw_bayer = unifyBayerPtn(raw_bayer, raw_type)\n",
    "\n",
    "    # compute proper scale\n",
    "    hei, wid = raw_bayer.shape\n",
    "    scale = math.ceil(min(hei / 2, wid / 2)) / float(min_px)\n",
    "\n",
    "    # downsize and convert to rgb image\n",
    "    r_chn = pyramid_reduce(raw_bayer[0::2, 0::2], downscale=scale)\n",
    "    g1_chn = pyramid_reduce(raw_bayer[0::2, 1::2], downscale=scale)\n",
    "    g2_chn = pyramid_reduce(raw_bayer[1::2, 0::2], downscale=scale)\n",
    "    b_chn = pyramid_reduce(raw_bayer[1::2, 1::2], downscale=scale)\n",
    "    lin_img = np.stack([r_chn, (g1_chn + g2_chn) / 2, b_chn], axis=-1)\n",
    "    lin_img = np.clip(lin_img, 0.0, 1.0)\n",
    "\n",
    "    # compute camera to xyz color space\n",
    "    metadata = extMetadata(file_path)\n",
    "    wp_xyz, interp_w = cam2xyzWP(metadata)\n",
    "    cam2xyz = cam2xyzD50(metadata, wp_xyz, interp_w)\n",
    "\n",
    "    # convert to sRGB\n",
    "    lin_img = cam2sRGB(lin_img, cam2xyz)\n",
    "\n",
    "    # save to file\n",
    "    save_data = {}\n",
    "    save_data['lin_img'] = lin_img.astype(np.float32)\n",
    "    with open(os.path.join(save_path, file.replace('.dng', '.pkl')),\n",
    "              'wb') as pkl:\n",
    "        pickle.dump(save_data, pkl, protocol=pickle.HIGHEST_PROTOCOL)"
   ]
  },
  {
   "cell_type": "markdown",
   "metadata": {},
   "source": [
    "## Parallel processing"
   ]
  },
  {
   "cell_type": "code",
   "execution_count": null,
   "metadata": {
    "code_folding": [
     0
    ]
   },
   "outputs": [],
   "source": [
    "# parallel processing\n",
    "cores = int(par.cpu_count() / 2)\n",
    "pool = par.Pool(processes=cores)\n",
    "for out in tqdm(pool.imap(genSample, file_list),\n",
    "                desc='progress',\n",
    "                total=len(file_list)):\n",
    "    pass\n",
    "pool.close()\n",
    "\n",
    "# get probability\n",
    "exp_list = []\n",
    "for file in file_list:\n",
    "    # load a new file\n",
    "    file_path = os.path.join(data_root, file)\n",
    "\n",
    "    # read metadata\n",
    "    img_md = exiv2.ImageMetadata(file_path)\n",
    "    img_md.read()\n",
    "\n",
    "    # extract metadata\n",
    "    exp_level = img_md['Exif.Image.BaselineExposure'].value\n",
    "    exp_level = float(exp_level)\n",
    "    exp_list.append(exp_level)\n",
    "\n",
    "%matplotlib inline\n",
    "n, bins, patches = plt.hist(exp_list, bins=100)\n",
    "plt.show()\n",
    "n = n / np.sum(n)\n",
    "\n",
    "with open(os.path.join(save_path, 'prob.txt'), 'w') as txt:\n",
    "    for exp, file in zip(exp_list, file_list):\n",
    "        for bin_prob, edge in zip(n, bins[:-1]):\n",
    "            if exp > edge:\n",
    "                file_prob = bin_prob\n",
    "        txt.write('%s %f %f \\n' % (file.split('.')[0], exp, file_prob))"
   ]
  }
 ],
 "metadata": {
  "kernelspec": {
   "display_name": "Python 3",
   "language": "python",
   "name": "python3"
  },
  "language_info": {
   "codemirror_mode": {
    "name": "ipython",
    "version": 3
   },
   "file_extension": ".py",
   "mimetype": "text/x-python",
   "name": "python",
   "nbconvert_exporter": "python",
   "pygments_lexer": "ipython3",
   "version": "3.8.5"
  }
 },
 "nbformat": 4,
 "nbformat_minor": 4
}
