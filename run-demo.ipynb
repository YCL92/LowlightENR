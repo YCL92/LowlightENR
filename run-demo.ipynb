{
 "cells": [
  {
   "cell_type": "markdown",
   "metadata": {},
   "source": [
    "# Demo"
   ]
  },
  {
   "cell_type": "markdown",
   "metadata": {
    "heading_collapsed": true
   },
   "source": [
    "## Includes"
   ]
  },
  {
   "cell_type": "code",
   "execution_count": null,
   "metadata": {
    "code_folding": [
     0
    ],
    "hidden": true
   },
   "outputs": [],
   "source": [
    "# mass includes\n",
    "import os, sys, warnings\n",
    "import ipdb\n",
    "import torch as t\n",
    "import numpy as np\n",
    "import rawpy as rp\n",
    "from tqdm.notebook import tqdm\n",
    "from torchvision.utils import save_image\n",
    "\n",
    "# add paths for all sub-folders\n",
    "paths = [root for root, _, _ in os.walk('.')\\\n",
    "         if 'evals' not in root]\n",
    "for item in paths:\n",
    "    sys.path.append(item)\n",
    "\n",
    "from ipynb.fs.full.config import Config\n",
    "from ipynb.fs.full.network import *\n",
    "from ipynb.fs.full.dataLoader import *\n",
    "from ipynb.fs.full.util import *"
   ]
  },
  {
   "cell_type": "markdown",
   "metadata": {
    "heading_collapsed": true
   },
   "source": [
    "## Initialization"
   ]
  },
  {
   "cell_type": "code",
   "execution_count": null,
   "metadata": {},
   "outputs": [],
   "source": [
    "data_root = './samples'  # dataset path\n",
    "save_root = './results'  # save path\n",
    "denoise = True  # whether to perform denoising"
   ]
  },
  {
   "cell_type": "code",
   "execution_count": null,
   "metadata": {
    "code_folding": [
     0
    ],
    "hidden": true,
    "scrolled": true
   },
   "outputs": [],
   "source": [
    "# for debugging only\n",
    "%pdb off\n",
    "warnings.filterwarnings('ignore')\n",
    "\n",
    "# choose GPU if available\n",
    "os.environ[\"CUDA_DEVICE_ORDER\"] = \"PCI_BUS_ID\"\n",
    "os.environ[\"CUDA_VISIBLE_DEVICES\"] = '0'\n",
    "device = t.device('cuda' if t.cuda.is_available() else 'cpu')\n",
    "\n",
    "# define models\n",
    "net_E = Enhancer(pretrain=True).to(device)\n",
    "net_E.load()\n",
    "net_E.eval()\n",
    "\n",
    "# find all folders\n",
    "cam_model_list = [\n",
    "    folder for folder in os.listdir(data_root)\n",
    "    if os.path.isdir(os.path.join(data_root, folder))\n",
    "]\n",
    "cam_model_list.sort()"
   ]
  },
  {
   "cell_type": "markdown",
   "metadata": {},
   "source": [
    "## Test"
   ]
  },
  {
   "cell_type": "code",
   "execution_count": null,
   "metadata": {
    "code_folding": [
     0
    ]
   },
   "outputs": [],
   "source": [
    "for cam_model in cam_model_list:\n",
    "    # load new pre-trained weights to denoiser\n",
    "    if denoise == True:\n",
    "        net_N = Denoiser(cam_model=cam_model).to(device)\n",
    "        net_N.load('./saves')\n",
    "        net_N.eval()\n",
    "\n",
    "    # create a new dataloader\n",
    "    test_dataset = TestSet(data_root, cam_model)\n",
    "    test_loader = t.utils.data.DataLoader(test_dataset)\n",
    "\n",
    "    # make folder for test results\n",
    "    save_path = os.path.join(save_root, cam_model, 'processed')\n",
    "    if not os.path.exists(save_path):\n",
    "        os.makedirs(save_path)\n",
    "\n",
    "    # reference image\n",
    "    ref_path = os.path.join(save_root, cam_model, 'original')\n",
    "    if not os.path.exists(ref_path):\n",
    "        os.makedirs(ref_path)\n",
    "\n",
    "    for (noisy_raw, noise_map, cam2xyz, file) in tqdm(test_loader,\n",
    "                                                      desc=cam_model,\n",
    "                                                      total=len(test_loader)):\n",
    "        # generate baseline\n",
    "        srgb_img = demosaic(noisy_raw)\n",
    "        srgb_img = cam2sRGB(srgb_img, cam2xyz)\n",
    "        srgb_img = t.where(srgb_img <= 0.0031308, 12.92 * srgb_img,\n",
    "                           1.055 * (srgb_img**(1 / 2.4)) - 0.055)\n",
    "        save_image(srgb_img.squeeze(),\n",
    "                   os.path.join(ref_path, file[0][:-4] + '.png'))\n",
    "\n",
    "        with t.no_grad():\n",
    "            # copy to device\n",
    "            noisy_raw = noisy_raw.to(device)\n",
    "            noise_map = noise_map.to(device)\n",
    "            cam2xyz = cam2xyz.to(device)\n",
    "\n",
    "            # initial denoising\n",
    "            noisy_raw = net_N(noisy_raw, noise_map)\n",
    "            srgb_img = cam2sRGB(noisy_raw, cam2xyz)\n",
    "\n",
    "            # downsize\n",
    "            down_img = downsize(srgb_img)\n",
    "\n",
    "            # inference\n",
    "            ilm_coes, clr_coes = net_E(down_img, srgb_img)\n",
    "            pred_ilm_img = applyIlmDen(noisy_raw, noise_map, net_N, ilm_coes,\n",
    "                                       cam2xyz)\n",
    "            pred_clr_img = applyClrCoes(pred_ilm_img, clr_coes, cam2xyz)\n",
    "\n",
    "            # save to file\n",
    "            save_image(pred_clr_img.cpu().squeeze(),\n",
    "                       os.path.join(save_path, file[0][:-4] + '.png'))"
   ]
  }
 ],
 "metadata": {
  "kernelspec": {
   "display_name": "Python 3",
   "language": "python",
   "name": "python3"
  },
  "language_info": {
   "codemirror_mode": {
    "name": "ipython",
    "version": 3
   },
   "file_extension": ".py",
   "mimetype": "text/x-python",
   "name": "python",
   "nbconvert_exporter": "python",
   "pygments_lexer": "ipython3",
   "version": "3.8.10"
  },
  "toc": {
   "nav_menu": {},
   "number_sections": true,
   "sideBar": true,
   "skip_h1_title": true,
   "title_cell": "Table of Contents",
   "title_sidebar": "Contents",
   "toc_cell": false,
   "toc_position": {},
   "toc_section_display": true,
   "toc_window_display": false
  },
  "varInspector": {
   "cols": {
    "lenName": 16,
    "lenType": 16,
    "lenVar": 40
   },
   "kernels_config": {
    "python": {
     "delete_cmd_postfix": "",
     "delete_cmd_prefix": "del ",
     "library": "var_list.py",
     "varRefreshCmd": "print(var_dic_list())"
    },
    "r": {
     "delete_cmd_postfix": ") ",
     "delete_cmd_prefix": "rm(",
     "library": "var_list.r",
     "varRefreshCmd": "cat(var_dic_list()) "
    }
   },
   "types_to_exclude": [
    "module",
    "function",
    "builtin_function_or_method",
    "instance",
    "_Feature"
   ],
   "window_display": false
  }
 },
 "nbformat": 4,
 "nbformat_minor": 2
}
