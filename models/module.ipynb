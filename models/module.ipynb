{
 "cells": [
  {
   "cell_type": "markdown",
   "metadata": {},
   "source": [
    "# Basic Model Manipulations"
   ]
  },
  {
   "cell_type": "markdown",
   "metadata": {
    "heading_collapsed": true
   },
   "source": [
    "## Includes"
   ]
  },
  {
   "cell_type": "code",
   "execution_count": null,
   "metadata": {
    "code_folding": [
     0
    ],
    "hidden": true
   },
   "outputs": [],
   "source": [
    "# mass includes\n",
    "import os, sys\n",
    "import time\n",
    "import torch as t\n",
    "import math as m"
   ]
  },
  {
   "cell_type": "markdown",
   "metadata": {
    "heading_collapsed": true
   },
   "source": [
    "## Basic methods"
   ]
  },
  {
   "cell_type": "code",
   "execution_count": null,
   "metadata": {
    "code_folding": [
     1,
     4,
     24,
     35
    ],
    "hidden": true
   },
   "outputs": [],
   "source": [
    "class BasicModule(t.nn.Module):\n",
    "    def __init__(self):\n",
    "        super(BasicModule, self).__init__()\n",
    "\n",
    "    def load(self, save_root=None, model_name=None):\n",
    "        if save_root is None:\n",
    "            save_root = './saves'\n",
    "        if model_name is None:\n",
    "            model_name = self.model_name\n",
    "\n",
    "        save_list = [\n",
    "            file for file in os.listdir(save_root)\n",
    "            if file.startswith(model_name)\n",
    "        ]\n",
    "        if len(save_list) == 0:\n",
    "            sys.exit('Weight file(s) not found!')\n",
    "        save_list.sort()\n",
    "\n",
    "        file_path = os.path.join(save_root, save_list[-1])\n",
    "        state_dict = t.load(file_path,\n",
    "                            map_location=next(self.parameters()).device)\n",
    "        self.load_state_dict(state_dict)\n",
    "        print('Weight file loaded: %s' % file_path)\n",
    "\n",
    "    def loadPartialDict(self, file_path):\n",
    "        pretrained_dict = t.load(file_path)\n",
    "        model_dict = self.state_dict()\n",
    "        pretrained_dict = {\n",
    "            key: value\n",
    "            for key, value in pretrained_dict.items() if key in model_dict\n",
    "        }\n",
    "        model_dict.update(pretrained_dict)\n",
    "        self.load_state_dict(model_dict)\n",
    "        print('Partial weights loaded: %s' % file_path)\n",
    "\n",
    "    def save(self, save_root=None):\n",
    "        if save_root is None:\n",
    "            save_root = './saves'\n",
    "        prefix = os.path.join('./saves/' + self.model_name + '_')\n",
    "        file_path = time.strftime(prefix + '%m%d-%H%M%S.pth')\n",
    "        t.save(self.state_dict(), file_path)\n",
    "        print('Weight file saved: %s' % file_path)"
   ]
  }
 ],
 "metadata": {
  "kernelspec": {
   "display_name": "Python 3",
   "language": "python",
   "name": "python3"
  },
  "language_info": {
   "codemirror_mode": {
    "name": "ipython",
    "version": 3
   },
   "file_extension": ".py",
   "mimetype": "text/x-python",
   "name": "python",
   "nbconvert_exporter": "python",
   "pygments_lexer": "ipython3",
   "version": "3.8.10"
  },
  "toc": {
   "nav_menu": {},
   "number_sections": true,
   "sideBar": true,
   "skip_h1_title": true,
   "title_cell": "Table of Contents",
   "title_sidebar": "Contents",
   "toc_cell": false,
   "toc_position": {},
   "toc_section_display": true,
   "toc_window_display": false
  },
  "varInspector": {
   "cols": {
    "lenName": 16,
    "lenType": 16,
    "lenVar": 40
   },
   "kernels_config": {
    "python": {
     "delete_cmd_postfix": "",
     "delete_cmd_prefix": "del ",
     "library": "var_list.py",
     "varRefreshCmd": "print(var_dic_list())"
    },
    "r": {
     "delete_cmd_postfix": ") ",
     "delete_cmd_prefix": "rm(",
     "library": "var_list.r",
     "varRefreshCmd": "cat(var_dic_list()) "
    }
   },
   "types_to_exclude": [
    "module",
    "function",
    "builtin_function_or_method",
    "instance",
    "_Feature"
   ],
   "window_display": false
  }
 },
 "nbformat": 4,
 "nbformat_minor": 2
}
